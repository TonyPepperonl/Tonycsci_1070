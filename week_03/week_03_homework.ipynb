{
 "cells": [
  {
   "cell_type": "markdown",
   "metadata": {},
   "source": [
    "### Homework 3 Numpy Arrays and Pandas\n",
    "\n",
    "1. Open `cars.csv` in jupyter and look at the data. (Double click `cars.csv` to open in a new tab).\n",
    "2. We are converting each **column** into a numpy array.\n",
    "3. Notice we have text, integer and float data. \n",
    "4. Take care not to overwrite your starter code."
   ]
  },
  {
   "cell_type": "code",
   "execution_count": 379,
   "metadata": {},
   "outputs": [],
   "source": [
    "#Starter code. Do NOT modify this cell\n",
    "import pandas as pd\n",
    "import numpy as np\n",
    "import math\n",
    "import statistics\n",
    "import matplotlib.pyplot as plt\n",
    "from scipy import stats\n",
    "# Read in dataset\n",
    "df = pd.read_csv('cars.csv',delimiter=';')\n",
    "\n",
    "# Convert each column to an np.array\n",
    "car = df.Car.to_numpy()\n",
    "mpg = df.MPG.to_numpy()\n",
    "cylinders = df.Cylinders.to_numpy()\n",
    "displacement = df.Displacement.to_numpy()\n",
    "horsepower = df.Horsepower.to_numpy()\n",
    "weight = df.Weight.to_numpy()\n",
    "acceleration = df.Acceleration.to_numpy()\n",
    "model = df.Model.to_numpy()\n",
    "origin = df.Origin.to_numpy()\n",
    "\n",
    "# create an array of headers\n",
    "headers = np.array(['Car', 'MPG', 'Cylinders', 'Displacement', 'Horsepower', 'Weight','Acceleration', 'Model', 'Origin'])\n"
   ]
  },
  {
   "cell_type": "markdown",
   "metadata": {},
   "source": []
  },
  {
   "cell_type": "markdown",
   "metadata": {},
   "source": [
    "1. (2 pts) What are the numpy datatypes for the `car`,`mpg`, `horsepower` and `origin` arrays? (Hint: Not `type(car)` and use `print()` to print the numpy type.)"
   ]
  },
  {
   "cell_type": "code",
   "execution_count": 380,
   "metadata": {},
   "outputs": [
    {
     "name": "stdout",
     "output_type": "stream",
     "text": [
      "object\n",
      "float64\n",
      "float64\n",
      "object\n"
     ]
    }
   ],
   "source": [
    "print(car.dtype)\n",
    "print(mpg.dtype)\n",
    "print(horsepower.dtype)\n",
    "print(origin.dtype)\n"
   ]
  },
  {
   "cell_type": "markdown",
   "metadata": {},
   "source": [
    "2. (1 pt) `numpy` is often imported as `np`. What is this action called? Why might you do this? "
   ]
  },
  {
   "cell_type": "code",
   "execution_count": 381,
   "metadata": {},
   "outputs": [],
   "source": [
    "# I think that this is importing a library. You import numpy as np so that you can avoid naming comflicts and for convience"
   ]
  },
  {
   "cell_type": "markdown",
   "metadata": {},
   "source": [
    "3. (2 pts) Each of the arrays (cars, mpg, cylinders, etc..) has how many dimensions? Show how to find this using code. "
   ]
  },
  {
   "cell_type": "code",
   "execution_count": 382,
   "metadata": {},
   "outputs": [
    {
     "data": {
      "text/plain": [
       "1"
      ]
     },
     "execution_count": 382,
     "metadata": {},
     "output_type": "execute_result"
    }
   ],
   "source": [
    "\n",
    "car.ndim\n",
    "mpg.ndim\n",
    "cylinders.ndim\n",
    "displacement.ndim\n",
    "horsepower.ndim\n",
    "weight.ndim\n",
    "acceleration.ndim\n",
    "model.ndim\n",
    "origin.ndim"
   ]
  },
  {
   "cell_type": "markdown",
   "metadata": {},
   "source": [
    "4. (3 pts) What is the ___ of `horsepower`?\n",
    "- sum\n",
    "- min\n",
    "- max\n",
    "- median\n",
    "- Optional: mode (May need to google help) (1 pt extra credit)"
   ]
  },
  {
   "cell_type": "code",
   "execution_count": 383,
   "metadata": {},
   "outputs": [
    {
     "name": "stdout",
     "output_type": "stream",
     "text": [
      "42033.0\n",
      "0.0\n",
      "230.0\n",
      "93.5\n"
     ]
    },
    {
     "data": {
      "text/plain": [
       "ModeResult(mode=np.float64(150.0), count=np.int64(22))"
      ]
     },
     "execution_count": 383,
     "metadata": {},
     "output_type": "execute_result"
    }
   ],
   "source": [
    "print(horsepower.sum())\n",
    "print(horsepower.min())\n",
    "print(horsepower.max())\n",
    "print(np.median(horsepower))\n",
    "from scipy import stats\n",
    "stats.mode(horsepower)"
   ]
  },
  {
   "cell_type": "markdown",
   "metadata": {},
   "source": [
    "5. (2 pts) Select the last element in each subarray (do this with one operation.)"
   ]
  },
  {
   "cell_type": "code",
   "execution_count": 384,
   "metadata": {},
   "outputs": [
    {
     "name": "stdout",
     "output_type": "stream",
     "text": [
      "3\n",
      "6\n",
      "9\n"
     ]
    }
   ],
   "source": [
    "select_more = np.array([[1,2,3],\n",
    "                      [4,5,6],\n",
    "                      [7,8,9]])\n",
    "# returns array([3, 6, 9])\n",
    "for i in select_more:\n",
    "    print(i[-1])"
   ]
  },
  {
   "cell_type": "markdown",
   "metadata": {},
   "source": [
    "6. (2 pts) Use the built-in `np.lookfor()` function to search for `'log'`.\n",
    "\n",
    "Use the function you find and apply it to `mpg`."
   ]
  },
  {
   "cell_type": "code",
   "execution_count": null,
   "metadata": {},
   "outputs": [],
   "source": [
    "np.lookfor(\"log\")\n",
    "#Does not exist in current version of Numpy"
   ]
  },
  {
   "cell_type": "markdown",
   "metadata": {},
   "source": [
    "7. (2 pts) Use boolean indexing to create an array of `True/False` using `origin` and the value 'US'."
   ]
  },
  {
   "cell_type": "code",
   "execution_count": 276,
   "metadata": {
    "scrolled": true
   },
   "outputs": [
    {
     "data": {
      "text/plain": [
       "array([ True,  True,  True,  True,  True,  True,  True,  True,  True,\n",
       "        True, False,  True,  True,  True,  True,  True,  True,  True,\n",
       "        True,  True, False,  True,  True,  True, False, False, False,\n",
       "       False, False, False,  True,  True,  True,  True,  True, False,\n",
       "        True, False,  True, False,  True,  True,  True,  True,  True,\n",
       "        True,  True,  True,  True,  True,  True,  True,  True,  True,\n",
       "        True,  True,  True, False, False, False, False, False, False,\n",
       "        True, False,  True, False,  True,  True,  True,  True,  True,\n",
       "        True,  True,  True,  True,  True,  True, False,  True,  True,\n",
       "        True,  True, False, False, False, False,  True, False, False,\n",
       "        True, False,  True,  True,  True,  True,  True,  True,  True,\n",
       "        True,  True,  True,  True,  True,  True,  True,  True,  True,\n",
       "        True, False,  True,  True,  True,  True,  True, False,  True,\n",
       "       False, False,  True,  True, False,  True,  True, False, False,\n",
       "       False, False,  True, False, False,  True,  True,  True,  True,\n",
       "        True, False,  True, False,  True,  True,  True,  True,  True,\n",
       "        True,  True,  True,  True, False, False, False, False, False,\n",
       "        True, False, False, False, False, False,  True,  True,  True,\n",
       "        True,  True,  True,  True,  True,  True,  True,  True,  True,\n",
       "        True,  True,  True, False,  True,  True,  True, False, False,\n",
       "       False,  True, False,  True, False, False, False, False, False,\n",
       "       False, False,  True,  True, False,  True,  True,  True,  True,\n",
       "        True,  True,  True,  True,  True,  True, False, False,  True,\n",
       "        True,  True,  True, False, False, False,  True, False,  True,\n",
       "       False, False, False,  True,  True,  True,  True, False,  True,\n",
       "       False,  True, False,  True,  True,  True,  True,  True,  True,\n",
       "        True,  True,  True,  True,  True,  True, False,  True, False,\n",
       "        True,  True,  True, False, False, False, False, False, False,\n",
       "        True, False, False, False,  True,  True,  True,  True,  True,\n",
       "        True,  True,  True,  True,  True,  True,  True,  True,  True,\n",
       "        True,  True,  True,  True, False, False,  True, False,  True,\n",
       "        True, False, False, False, False, False, False, False,  True,\n",
       "        True,  True,  True,  True,  True,  True,  True,  True,  True,\n",
       "        True,  True,  True, False, False,  True,  True, False,  True,\n",
       "       False,  True,  True,  True, False, False,  True,  True,  True,\n",
       "        True, False, False,  True, False,  True,  True,  True,  True,\n",
       "       False, False, False, False, False, False,  True, False, False,\n",
       "       False, False, False, False, False, False, False, False, False,\n",
       "       False,  True, False,  True,  True,  True,  True,  True, False,\n",
       "        True, False, False, False, False, False,  True,  True,  True,\n",
       "       False, False, False, False, False, False, False, False, False,\n",
       "       False, False,  True,  True,  True,  True,  True,  True,  True,\n",
       "        True,  True,  True,  True,  True, False, False, False,  True,\n",
       "        True, False, False, False, False, False, False,  True,  True,\n",
       "        True,  True, False,  True,  True,  True, False,  True,  True,\n",
       "        True])"
      ]
     },
     "execution_count": 276,
     "metadata": {},
     "output_type": "execute_result"
    }
   ],
   "source": [
    "#use the data in origin to create a boolean array that is filled with 0 and 1. the value is set to one if = 'US' \n",
    "#otherwise it will return a value of 0\n",
    "np.array([x == 'US' for x in origin],dtype = bool)\n"
   ]
  },
  {
   "cell_type": "markdown",
   "metadata": {},
   "source": [
    "8. (2 pts) Apply your index (from above) to the `car` array. You should now only see cars that are of US origin. "
   ]
  },
  {
   "cell_type": "code",
   "execution_count": 323,
   "metadata": {},
   "outputs": [
    {
     "name": "stdout",
     "output_type": "stream",
     "text": [
      "Chevrolet Chevelle Malibu\n",
      "Buick Skylark 320\n",
      "Plymouth Satellite\n",
      "AMC Rebel SST\n",
      "Ford Torino\n",
      "Ford Galaxie 500\n",
      "Chevrolet Impala\n",
      "Plymouth Fury iii\n",
      "Pontiac Catalina\n",
      "AMC Ambassador DPL\n",
      "Chevrolet Chevelle Concours (sw)\n",
      "Ford Torino (sw)\n",
      "Plymouth Satellite (sw)\n",
      "AMC Rebel SST (sw)\n",
      "Dodge Challenger SE\n",
      "Plymouth 'Cuda 340\n",
      "Ford Mustang Boss 302\n",
      "Chevrolet Monte Carlo\n",
      "Buick Estate Wagon (sw)\n",
      "Plymouth Duster\n",
      "AMC Hornet\n",
      "Ford Maverick\n",
      "AMC Gremlin\n",
      "Ford F250\n",
      "Chevy C20\n",
      "Dodge D200\n",
      "Hi 1200D\n",
      "Chevrolet Vega 2300\n",
      "Ford Pinto\n",
      "AMC Gremlin\n",
      "Plymouth Satellite Custom\n",
      "Chevrolet Chevelle Malibu\n",
      "Ford Torino 500\n",
      "AMC Matador\n",
      "Chevrolet Impala\n",
      "Pontiac Catalina Brougham\n",
      "Ford Galaxie 500\n",
      "Plymouth Fury iii\n",
      "Dodge Monaco (sw)\n",
      "Ford Country Squire (sw)\n",
      "Pontiac Safari (sw)\n",
      "AMC Hornet Sportabout (sw)\n",
      "Chevrolet Vega (sw)\n",
      "Pontiac Firebird\n",
      "Ford Mustang\n",
      "Mercury Capri 2000\n",
      "Plymouth Cricket\n",
      "Dodge Colt Hardtop\n",
      "Chevrolet Vega\n",
      "Ford Pinto Runabout\n",
      "Chevrolet Impala\n",
      "Pontiac Catalina\n",
      "Plymouth Fury III\n",
      "Ford Galaxie 500\n",
      "AMC Ambassador SST\n",
      "Mercury Marquis\n",
      "Buick LeSabre Custom\n",
      "Oldsmobile Delta 88 Royale\n",
      "Chrysler Newport Royal\n",
      "AMC Matador (sw)\n",
      "Chevrolet Chevelle Concours (sw)\n",
      "Ford Gran Torino (sw)\n",
      "Plymouth Satellite Custom (sw)\n",
      "Ford Pinto (sw)\n",
      "Dodge Colt (sw)\n",
      "Buick Century 350\n",
      "AMC Matador\n",
      "Chevrolet Malibu\n",
      "Ford Gran Torino\n",
      "Dodge Coronet Custom\n",
      "Mercury Marquis Brougham\n",
      "Chevrolet Caprice Classic\n",
      "Ford LTD\n",
      "Plymouth Fury Gran Sedan\n",
      "Chrysler New Yorker Brougham\n",
      "Buick Electra 225 Custom\n",
      "AMC Ambassador Brougham\n",
      "Plymouth Valiant\n",
      "Chevrolet Nova Custom\n",
      "AMC Hornet\n",
      "Ford Maverick\n",
      "Plymouth Duster\n",
      "Chevrolet Impala\n",
      "Ford Country\n",
      "Plymouth Custom Suburb\n",
      "Oldsmobile Vista Cruiser\n",
      "AMC Gremlin\n",
      "Chevrolet Vega\n",
      "Ford Pinto\n",
      "Mercury Capri v6\n",
      "Chevrolet Monte Carlo S\n",
      "Pontiac Grand Prix\n",
      "Dodge Dart Custom\n",
      "Oldsmobile Omega\n",
      "Plymouth Duster\n",
      "Ford Maverick\n",
      "AMC Hornet\n",
      "Chevrolet Nova\n",
      "Ford Pinto\n",
      "Chevrolet Vega\n",
      "Chevrolet Chevelle Malibu Classic\n",
      "AMC Matador\n",
      "Plymouth Satellite Sebring\n",
      "Ford Gran Torino\n",
      "Buick Century Luxus (sw)\n",
      "Dodge Coronet Custom (sw)\n",
      "Ford Gran Torino (sw)\n",
      "AMC Matador (sw)\n",
      "Dodge Colt\n",
      "Plymouth Valiant Custom\n",
      "Chevrolet Nova\n",
      "Mercury Monarch\n",
      "Ford Maverick\n",
      "Pontiac Catalina\n",
      "Chevrolet Bel Air\n",
      "Plymouth Grand Fury\n",
      "Ford LTD\n",
      "Buick Century\n",
      "Chevrolete Chevelle Malibu\n",
      "AMC Matador\n",
      "Plymouth Fury\n",
      "Buick Skyhawk\n",
      "Chevrolet Monza 2+2\n",
      "Ford Mustang II\n",
      "Ford Pinto\n",
      "AMC Gremlin\n",
      "Pontiac Astro\n",
      "Ford Pinto\n",
      "AMC Pacer\n",
      "Capri ii\n",
      "Dodge Colt\n",
      "Chevrolet Chevelle Malibu Classic\n",
      "Dodge Coronet Brougham\n",
      "AMC Matador\n",
      "Ford Gran Torino\n",
      "Plymouth Valiant\n",
      "Chevrolet Nova\n",
      "Ford Maverick\n",
      "AMC Hornet\n",
      "Chevrolet Chevette\n",
      "Chevrolet Woody\n",
      "Dodge Aspen SE\n",
      "Ford Grenada ghia\n",
      "Pontiac Ventura SJ\n",
      "AMC Pacer d/l\n",
      "Ford Pinto\n",
      "Plymouth Volare Premier v8\n",
      "Cadillac Seville\n",
      "Chevrolet C10\n",
      "Ford F108\n",
      "Dodge D100\n",
      "Buick Opel Isuzu Deluxe\n",
      "Plymouth Arrow GS\n",
      "Chevrolet Caprice Classic\n",
      "Oldsmobile Cutlass Supreme\n",
      "Dodge Monaco Brougham\n",
      "Mercury Cougar Brougham\n",
      "Chevrolet Concours\n",
      "Buick Skylark\n",
      "Plymouth Volare Custom\n",
      "Ford Grenada\n",
      "Pontiac Grand Prix LJ\n",
      "Chevrolet Monte Carlo Landau\n",
      "Chrysler Cordoba\n",
      "Ford Thunderbird\n",
      "Pontiac Sunbird Coupe\n",
      "Ford Mustang II 2+2\n",
      "Chevrolet Chevette\n",
      "Dodge Colt m/m\n",
      "Ford Fiesta\n",
      "Oldsmobile Cutlass Salon Brougham\n",
      "Dodge Diplomat\n",
      "Mercury Monarch ghia\n",
      "Pontiac Phoenix LJ\n",
      "Chevrolet Malibu\n",
      "Ford Fairmont (auto)\n",
      "Ford Fairmont (man)\n",
      "Plymouth Volare\n",
      "AMC Concord\n",
      "Buick Century Special\n",
      "Mercury Zephyr\n",
      "Dodge Aspen\n",
      "AMC Concord d/l\n",
      "Chevrolet Monte Carlo Landau\n",
      "Buick Regal Sport Coupe (turbo)\n",
      "Ford Futura\n",
      "Dodge Magnum XE\n",
      "Chevrolet Chevette\n",
      "Dodge Omni\n",
      "Plymouth Sapporo\n",
      "Oldsmobile Starfire SX\n",
      "Pontiac Lemans V6\n",
      "Mercury Zephyr 6\n",
      "Ford Fairmont 4\n",
      "AMC Concord DL 6\n",
      "Dodge Aspen 6\n",
      "Chevrolet Caprice Classic\n",
      "Ford LTD Landau\n",
      "Mercury Grand Marquis\n",
      "Dodge St. Regis\n",
      "Buick Estate Wagon (sw)\n",
      "Ford Country Squire (sw)\n",
      "Chevrolet Malibu Classic (sw)\n",
      "Chrysler Lebaron Town @ Country (sw)\n",
      "Dodge Colt Hatchback Custom\n",
      "AMC Spirit DL\n",
      "Cadillac Eldorado\n",
      "Oldsmobile Cutlass Salon Brougham\n",
      "Plymouth Horizon\n",
      "Plymouth Horizon TC3\n",
      "Buick Skylark Limited\n",
      "Chevrolet Citation\n",
      "Oldsmobile Omega Brougham\n",
      "Pontiac Phoenix\n",
      "Chevrolet Chevette\n",
      "Chevrolet Citation\n",
      "Ford Fairmont\n",
      "AMC Concord\n",
      "Dodge Aspen\n",
      "Dodge Colt\n",
      "Ford Mustang Cobra\n",
      "Plymouth Reliant\n",
      "Buick Skylark\n",
      "Dodge Aries Wagon (sw)\n",
      "Chevrolet Citation\n",
      "Plymouth Reliant\n",
      "Plymouth Champ\n",
      "Plymouth Horizon 4\n",
      "Ford Escort 4W\n",
      "Ford Escort 2H\n",
      "Buick Century\n",
      "Oldsmobile Cutlass LS\n",
      "Ford Grenada gl\n",
      "Chrysler Lebaron Salon\n",
      "Chevrolet Cavalier\n",
      "Chevrolet Cavalier Wagon\n",
      "Chevrolet Cavalier 2-door\n",
      "Pontiac J2000 SE Hatchback\n",
      "Dodge Aries SE\n",
      "Pontiac Phoenix\n",
      "Ford Fairmont Futura\n",
      "AMC Concord DL\n",
      "Plymouth Horizon Miser\n",
      "Mercury Lynx l\n",
      "Buick Century Limited\n",
      "Oldsmobile Cutlass Ciera (diesel)\n",
      "Chrysler Lebaron Medallion\n",
      "Ford Grenada l\n",
      "Dodge Charger 2.2\n",
      "Chevrolet Camaro\n",
      "Ford Mustang GL\n",
      "Dodge Rampage\n",
      "Ford Ranger\n",
      "Chevy S-10\n"
     ]
    }
   ],
   "source": [
    "Origin_US = np.array([x == 'US' for x in origin],dtype = bool)\n",
    "Cars_US = np.array(np.where(Origin_US)[0])\n",
    "for i in Cars_US:\n",
    "    print(car[i])\n",
    "\n",
    "\n",
    "\n",
    "\n"
   ]
  },
  {
   "cell_type": "markdown",
   "metadata": {},
   "source": [
    "9. (3 pts) What is the average horsepower for `Europe` cars? (Hint: create a boolean index of 'US' apply it to horsepower and perform the calculation.)"
   ]
  },
  {
   "cell_type": "code",
   "execution_count": 455,
   "metadata": {},
   "outputs": [
    {
     "data": {
      "text/plain": [
       "np.float64(78.78082191780823)"
      ]
     },
     "execution_count": 455,
     "metadata": {},
     "output_type": "execute_result"
    }
   ],
   "source": [
    "\n",
    "Origin_EU = np.array([x == 'Europe' for x in origin],dtype = bool)\n",
    "Cars_EU = np.array(np.where(Origin_EU)[0])\n",
    "horsepower_EU = np.array([])\n",
    "for i in Cars_EU:\n",
    "    horsepower_EU = np.append(horsepower_EU, horsepower[i])\n",
    "np.mean(horsepower_EU)\n"
   ]
  },
  {
   "cell_type": "markdown",
   "metadata": {},
   "source": [
    "10. (3 pts) On average are Japanese cars more fuel-efficient than US cars? Show the code that you used to determine this.  "
   ]
  },
  {
   "cell_type": "code",
   "execution_count": 461,
   "metadata": {},
   "outputs": [
    {
     "name": "stdout",
     "output_type": "stream",
     "text": [
      "30.450632911392404\n",
      "19.688188976377955\n"
     ]
    }
   ],
   "source": [
    "#Japanese Cars\n",
    "Origin_JP = np.array([x == 'Japan' for x in origin],dtype = bool)\n",
    "Cars_JP = np.array(np.where(Origin_JP)[0])\n",
    "mpg_JP = np.array([])\n",
    "for i in Cars_JP:\n",
    "    mpg_JP = np.append(mpg_JP, mpg[i])\n",
    "print(np.mean(mpg_JP))\n",
    "#United States Cars\n",
    "Origin_US = np.array([x == 'US' for x in origin],dtype = bool)\n",
    "Cars_US = np.array(np.where(Origin_US)[0])\n",
    "mpg_US = np.array([])\n",
    "for i in Cars_US:\n",
    "    mpg_US = np.append(mpg_US, mpg[i])\n",
    "print(np.mean(mpg_US))\n",
    "#Japanese cars on average are more fuel efficient than American made cars "
   ]
  },
  {
   "cell_type": "markdown",
   "metadata": {},
   "source": [
    "11. (3 pts) What is the correlation coefficient of `mpg` and `weight`? What is a correlation coefficient? What does the result indicate about the relationship between mpg and weight? "
   ]
  },
  {
   "cell_type": "code",
   "execution_count": 464,
   "metadata": {},
   "outputs": [
    {
     "name": "stdout",
     "output_type": "stream",
     "text": [
      "[[ 1.         -0.78750994]\n",
      " [-0.78750994  1.        ]]\n"
     ]
    }
   ],
   "source": [
    "# A correlation coefficient is used to describe how strong a coefficient is. For example if we have a coefficient of 1 then we have a strong\n",
    "# positive correlation if we have a coefficient of -1 then we have a strong negative correlation and if we have a coefficient of 0\n",
    "# then we have no correlation.\n",
    "correlation_df = np.corrcoef(mpg, weight)\n",
    "\n",
    "print(correlation_df)"
   ]
  },
  {
   "cell_type": "markdown",
   "metadata": {},
   "source": [
    "Extra credit: (3 pts) Create a new pandas dataframe that has the average mpg, weight, and horsepower per country of origin"
   ]
  },
  {
   "cell_type": "code",
   "execution_count": 468,
   "metadata": {},
   "outputs": [
    {
     "data": {
      "text/html": [
       "<div>\n",
       "<style scoped>\n",
       "    .dataframe tbody tr th:only-of-type {\n",
       "        vertical-align: middle;\n",
       "    }\n",
       "\n",
       "    .dataframe tbody tr th {\n",
       "        vertical-align: top;\n",
       "    }\n",
       "\n",
       "    .dataframe thead th {\n",
       "        text-align: right;\n",
       "    }\n",
       "</style>\n",
       "<table border=\"1\" class=\"dataframe\">\n",
       "  <thead>\n",
       "    <tr style=\"text-align: right;\">\n",
       "      <th></th>\n",
       "      <th>Car</th>\n",
       "      <th>MPG</th>\n",
       "      <th>Cylinders</th>\n",
       "      <th>Displacement</th>\n",
       "      <th>Horsepower</th>\n",
       "      <th>Weight</th>\n",
       "      <th>Acceleration</th>\n",
       "      <th>Model</th>\n",
       "    </tr>\n",
       "    <tr>\n",
       "      <th>Origin</th>\n",
       "      <th></th>\n",
       "      <th></th>\n",
       "      <th></th>\n",
       "      <th></th>\n",
       "      <th></th>\n",
       "      <th></th>\n",
       "      <th></th>\n",
       "      <th></th>\n",
       "    </tr>\n",
       "  </thead>\n",
       "  <tbody>\n",
       "    <tr>\n",
       "      <th>Europe</th>\n",
       "      <td>73</td>\n",
       "      <td>73</td>\n",
       "      <td>73</td>\n",
       "      <td>73</td>\n",
       "      <td>73</td>\n",
       "      <td>73</td>\n",
       "      <td>73</td>\n",
       "      <td>73</td>\n",
       "    </tr>\n",
       "    <tr>\n",
       "      <th>Japan</th>\n",
       "      <td>79</td>\n",
       "      <td>79</td>\n",
       "      <td>79</td>\n",
       "      <td>79</td>\n",
       "      <td>79</td>\n",
       "      <td>79</td>\n",
       "      <td>79</td>\n",
       "      <td>79</td>\n",
       "    </tr>\n",
       "    <tr>\n",
       "      <th>US</th>\n",
       "      <td>254</td>\n",
       "      <td>254</td>\n",
       "      <td>254</td>\n",
       "      <td>254</td>\n",
       "      <td>254</td>\n",
       "      <td>254</td>\n",
       "      <td>254</td>\n",
       "      <td>254</td>\n",
       "    </tr>\n",
       "  </tbody>\n",
       "</table>\n",
       "</div>"
      ],
      "text/plain": [
       "        Car  MPG  Cylinders  Displacement  Horsepower  Weight  Acceleration  \\\n",
       "Origin                                                                        \n",
       "Europe   73   73         73            73          73      73            73   \n",
       "Japan    79   79         79            79          79      79            79   \n",
       "US      254  254        254           254         254     254           254   \n",
       "\n",
       "        Model  \n",
       "Origin         \n",
       "Europe     73  \n",
       "Japan      79  \n",
       "US        254  "
      ]
     },
     "execution_count": 468,
     "metadata": {},
     "output_type": "execute_result"
    }
   ],
   "source": [
    "grouped_origin_df = df.groupby(\"Origin\")\n",
    "grouped_origin_df.count()"
   ]
  },
  {
   "cell_type": "code",
   "execution_count": 471,
   "metadata": {},
   "outputs": [
    {
     "data": {
      "text/html": [
       "<div>\n",
       "<style scoped>\n",
       "    .dataframe tbody tr th:only-of-type {\n",
       "        vertical-align: middle;\n",
       "    }\n",
       "\n",
       "    .dataframe tbody tr th {\n",
       "        vertical-align: top;\n",
       "    }\n",
       "\n",
       "    .dataframe thead th {\n",
       "        text-align: right;\n",
       "    }\n",
       "</style>\n",
       "<table border=\"1\" class=\"dataframe\">\n",
       "  <thead>\n",
       "    <tr style=\"text-align: right;\">\n",
       "      <th></th>\n",
       "      <th>MPG</th>\n",
       "      <th>Weight</th>\n",
       "      <th>Horsepower</th>\n",
       "    </tr>\n",
       "    <tr>\n",
       "      <th>Origin</th>\n",
       "      <th></th>\n",
       "      <th></th>\n",
       "      <th></th>\n",
       "    </tr>\n",
       "  </thead>\n",
       "  <tbody>\n",
       "    <tr>\n",
       "      <th>Europe</th>\n",
       "      <td>26.745205</td>\n",
       "      <td>2431.493151</td>\n",
       "      <td>78.780822</td>\n",
       "    </tr>\n",
       "    <tr>\n",
       "      <th>Japan</th>\n",
       "      <td>30.450633</td>\n",
       "      <td>2221.227848</td>\n",
       "      <td>79.835443</td>\n",
       "    </tr>\n",
       "    <tr>\n",
       "      <th>US</th>\n",
       "      <td>19.688189</td>\n",
       "      <td>3372.700787</td>\n",
       "      <td>118.011811</td>\n",
       "    </tr>\n",
       "  </tbody>\n",
       "</table>\n",
       "</div>"
      ],
      "text/plain": [
       "              MPG       Weight  Horsepower\n",
       "Origin                                    \n",
       "Europe  26.745205  2431.493151   78.780822\n",
       "Japan   30.450633  2221.227848   79.835443\n",
       "US      19.688189  3372.700787  118.011811"
      ]
     },
     "execution_count": 471,
     "metadata": {},
     "output_type": "execute_result"
    }
   ],
   "source": [
    "grouped_origin_df[[\"MPG\",\"Weight\",\"Horsepower\"]].mean()\n"
   ]
  }
 ],
 "metadata": {
  "kernelspec": {
   "display_name": "Python 3 (ipykernel)",
   "language": "python",
   "name": "python3"
  },
  "language_info": {
   "codemirror_mode": {
    "name": "ipython",
    "version": 3
   },
   "file_extension": ".py",
   "mimetype": "text/x-python",
   "name": "python",
   "nbconvert_exporter": "python",
   "pygments_lexer": "ipython3",
   "version": "3.12.4"
  }
 },
 "nbformat": 4,
 "nbformat_minor": 4
}
